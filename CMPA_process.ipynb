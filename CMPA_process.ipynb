{
 "cells": [
  {
   "cell_type": "code",
   "execution_count": 1,
   "outputs": [],
   "source": [
    "import os\n",
    "import pandas as pd\n",
    "import numpy as np\n",
    "from rdkit.Chem import AllChem,DataStructs\n",
    "from rdkit.Chem import MACCSkeys\n",
    "from rdkit.Chem import Descriptors\n",
    "from rdkit.Chem import rdMolDescriptors\n"
   ],
   "metadata": {
    "collapsed": false,
    "pycharm": {
     "name": "#%%\n"
    }
   }
  },
  {
   "cell_type": "code",
   "execution_count": 2,
   "outputs": [],
   "source": [
    "from rdkit import Chem\n",
    "from rdkit.Chem import AllChem"
   ],
   "metadata": {
    "collapsed": false,
    "pycharm": {
     "name": "#%%\n"
    }
   }
  },
  {
   "cell_type": "code",
   "execution_count": 4,
   "outputs": [
    {
     "name": "stderr",
     "output_type": "stream",
     "text": [
      "[19:10:19] Warning: molecule is tagged as 2D, but at least one Z coordinate is not zero. Marking the mol as 3D.\n",
      "[19:10:19] DEPRECATION WARNING: please use MorganGenerator\n",
      "[19:10:19] DEPRECATION WARNING: please use TopologicalTorsionGenerator\n",
      "[19:10:19] Warning: molecule is tagged as 2D, but at least one Z coordinate is not zero. Marking the mol as 3D.\n",
      "[19:10:19] DEPRECATION WARNING: please use MorganGenerator\n",
      "[19:10:19] DEPRECATION WARNING: please use TopologicalTorsionGenerator\n",
      "[19:10:19] Warning: molecule is tagged as 2D, but at least one Z coordinate is not zero. Marking the mol as 3D.\n",
      "[19:10:19] DEPRECATION WARNING: please use MorganGenerator\n",
      "[19:10:19] DEPRECATION WARNING: please use TopologicalTorsionGenerator\n",
      "[19:10:19] Warning: molecule is tagged as 2D, but at least one Z coordinate is not zero. Marking the mol as 3D.\n",
      "[19:10:19] DEPRECATION WARNING: please use MorganGenerator\n",
      "[19:10:19] DEPRECATION WARNING: please use TopologicalTorsionGenerator\n",
      "[19:10:19] Warning: molecule is tagged as 2D, but at least one Z coordinate is not zero. Marking the mol as 3D.\n",
      "[19:10:19] DEPRECATION WARNING: please use MorganGenerator\n",
      "[19:10:19] DEPRECATION WARNING: please use TopologicalTorsionGenerator\n",
      "[19:10:19] Warning: molecule is tagged as 2D, but at least one Z coordinate is not zero. Marking the mol as 3D.\n",
      "[19:10:19] DEPRECATION WARNING: please use MorganGenerator\n",
      "[19:10:19] DEPRECATION WARNING: please use TopologicalTorsionGenerator\n",
      "[19:10:19] Warning: molecule is tagged as 2D, but at least one Z coordinate is not zero. Marking the mol as 3D.\n",
      "[19:10:19] DEPRECATION WARNING: please use MorganGenerator\n",
      "[19:10:19] DEPRECATION WARNING: please use TopologicalTorsionGenerator\n",
      "[19:10:19] Warning: molecule is tagged as 2D, but at least one Z coordinate is not zero. Marking the mol as 3D.\n",
      "[19:10:19] DEPRECATION WARNING: please use MorganGenerator\n",
      "[19:10:19] DEPRECATION WARNING: please use TopologicalTorsionGenerator\n",
      "[19:10:19] Warning: molecule is tagged as 2D, but at least one Z coordinate is not zero. Marking the mol as 3D.\n",
      "[19:10:19] DEPRECATION WARNING: please use MorganGenerator\n",
      "[19:10:19] DEPRECATION WARNING: please use TopologicalTorsionGenerator\n",
      "[19:10:19] Warning: molecule is tagged as 2D, but at least one Z coordinate is not zero. Marking the mol as 3D.\n",
      "[19:10:19] DEPRECATION WARNING: please use MorganGenerator\n",
      "[19:10:19] DEPRECATION WARNING: please use TopologicalTorsionGenerator\n",
      "[19:10:19] Warning: molecule is tagged as 2D, but at least one Z coordinate is not zero. Marking the mol as 3D.\n",
      "[19:10:19] DEPRECATION WARNING: please use MorganGenerator\n",
      "[19:10:19] DEPRECATION WARNING: please use TopologicalTorsionGenerator\n"
     ]
    }
   ],
   "source": [
    "folder_path = r\"C:\\Users\\re\\Desktop\\data\\dataset\\tianjia\\huan\"\n",
    "# 初始化空的DataFrame\n",
    "columns = ['CMPA_Molecular Weight','CMPA_heavy_atom_count','CMPA_Num Aliphatic Carbocycles','CMPA_Num Aliphatic Heterocycles','CMPA_Num Aliphatic Rings','CMPA_Ring Count','CMPA_Num Valence Electrons','CMPA_Labute ASA', 'CMPA_LogP', 'CMPA_Number of Hydrogen Acceptors', 'CMPA_Number of Rotatable Bonds', 'CMPA_Topological Polar Surface Area','CMPA_chi0','CMPA_chi1','CMPA_kappa1','CMPA_kappa2','CMPA_kappa3','CMPA_HallKierAlpha','CMPA_maccs_fingerprint','CMPA_topological_torsion','CMPA_Morgan Fingerprint']\n",
    "df = pd.DataFrame(columns=columns)\n",
    "\n",
    "# 遍历文件夹中的所有SDF文件\n",
    "for filename in os.listdir(folder_path):\n",
    "    if filename.endswith(\".sdf\"):\n",
    "        file_path = os.path.join(folder_path, filename)\n",
    "        mol = Chem.MolFromMolFile(file_path, sanitize=False)  # 读取分子，不进行sanitize\n",
    "\n",
    "        if mol is None:\n",
    "            print(f\"Failed to load molecule from {filename}\")\n",
    "            continue\n",
    "        # 手动初始化环信息\n",
    "        mol.UpdatePropertyCache(strict=False)\n",
    "        Chem.GetSymmSSSR(mol)  # 计算并储存环信息\n",
    "        # 计算特征\n",
    "        data = {}\n",
    "##分子量\n",
    "        data['CMPA_Molecular Weight'] = Descriptors.MolWt(mol)\n",
    "# 重原子数 (Heavy Atom Count)\n",
    "        data['CMPA_heavy_atom_count'] = Descriptors.HeavyAtomCount(mol)\n",
    "## 碳环\n",
    "        data['CMPA_Num Aliphatic Carbocycles']= Descriptors.NumAliphaticCarbocycles(mol)\n",
    "## 杂环\n",
    "        data['CMPA_Num Aliphatic Heterocycles']= Descriptors.NumAliphaticHeterocycles(mol)\n",
    "##脂肪环\n",
    "        data['CMPA_Num Aliphatic Rings']= Descriptors.NumAliphaticRings(mol)\n",
    "##环数\n",
    "        data['CMPA_Ring Count']= Descriptors.RingCount(mol)\n",
    "##价电子数\n",
    "        data['CMPA_Num Valence Electrons']=Descriptors.NumValenceElectrons(mol)\n",
    "## 分子表面积\n",
    "        data['CMPA_Labute ASA']=rdMolDescriptors.CalcLabuteASA(mol)\n",
    "##Logp\n",
    "        data['CMPA_LogP'] = Descriptors.MolLogP(mol)\n",
    "##分子的H-键受体\n",
    "        data['CMPA_Number of Hydrogen Acceptors'] = Descriptors.NumHAcceptors(mol)\n",
    "\n",
    "##可旋转键数\n",
    "        data['CMPA_Number of Rotatable Bonds'] = Descriptors.NumRotatableBonds(mol)\n",
    "##拓扑极性表面积\n",
    "        data['CMPA_Topological Polar Surface Area']=rdMolDescriptors.CalcTPSA(mol)\n",
    "        # l.append(np.array(AllChem.GetMorganFingerprintAsBitVect(mol, radius=2, nBits=1024)))\n",
    "\n",
    "##连接性指数\n",
    "        data['CMPA_chi0']=Descriptors.Chi0(mol)\n",
    "        data['CMPA_chi1']= Descriptors.Chi1(mol)\n",
    "##计算Kappa形状描述符\n",
    "        data['CMPA_kappa1'] = Descriptors.Kappa1(mol)\n",
    "        data['CMPA_kappa2']  = Descriptors.Kappa2(mol)\n",
    "        data['CMPA_kappa3']  = Descriptors.Kappa3(mol)\n",
    "##HallKierAlpha\n",
    "        data['CMPA_HallKierAlpha']=Descriptors.HallKierAlpha(mol)\n",
    "\n",
    "\n",
    "\n",
    "\n",
    "## MACCS键型指纹\n",
    "        fp_maccs = MACCSkeys.GenMACCSKeys(mol)\n",
    "        # 将 ExplicitBitVect 转换为 NumPy 数组\n",
    "        arr_maccs = np.zeros((1,), dtype=np.int8)  # 注意：MACCS键长度为166，但NumPy数组需要初始化长度\n",
    "        DataStructs.ConvertToNumpyArray(fp_maccs, arr_maccs)\n",
    "        data['CMPA_maccs_fingerprint']=arr_maccs\n",
    "\n",
    "##摩根指纹\n",
    "        fp_Morgan = AllChem.GetMorganFingerprintAsBitVect(mol, radius=2, nBits=1024)\n",
    "        # 将 ExplicitBitVect 转换为 NumPy 数组\n",
    "        arr_Morgan = np.zeros((1,), dtype=np.int8)  # 注意：MACCS键长度为166，但NumPy数组需要初始化长度\n",
    "        DataStructs.ConvertToNumpyArray(fp_Morgan, arr_Morgan)\n",
    "        data['CMPA_Morgan Fingerprint']  = arr_Morgan\n",
    "\n",
    "# 计算拓扑扭曲指纹\n",
    "        fp_top = AllChem.GetHashedTopologicalTorsionFingerprintAsBitVect(mol)\n",
    "        arr_top = np.zeros((0,), dtype=int)  # 初始化一个空的 NumPy 数组\n",
    "        DataStructs.ConvertToNumpyArray(fp_top , arr_top)\n",
    "        data['CMPA_topological_torsion'] = arr_top\n",
    "        # 将结果添加到DataFrame中\n",
    "        df.loc[filename[:-4]] = data  # 去掉文件名的\".sdf\"后缀\n",
    "\n",
    "\n",
    "# 如果需要，可以保存DataFrame到CSV文件\n",
    "df.to_csv('tianjia_huan_features_01.csv')"
   ],
   "metadata": {
    "collapsed": false,
    "pycharm": {
     "name": "#%%\n"
    }
   }
  },
  {
   "cell_type": "code",
   "execution_count": 26,
   "outputs": [
    {
     "data": {
      "text/plain": "                tianjia_Molecular Weight  tianjia_heavy_atom_count  \\\nB-CD                            1134.987                        77   \nCM-B-CD                         1541.239                       105   \nDM-B-CD                         1331.365                        91   \nHP-B-CD                         1541.547                       105   \nHP-R-CD                         1297.128                        88   \nL-Phe+Cu2+                       227.730                        13   \nL-proline+Cu2+                   509.126                        33   \nM-B-CD                          1303.311                        89   \nS-B-CD                          1688.379                       105   \nSBE-B-CD                         328.496                        24   \nTM-B-CD                         1429.554                        98   \n\n                tianjia_Num Aliphatic Carbocycles  \\\nB-CD                                            0   \nCM-B-CD                                         0   \nDM-B-CD                                         0   \nHP-B-CD                                         0   \nHP-R-CD                                         0   \nL-Phe+Cu2+                                      1   \nL-proline+Cu2+                                  2   \nM-B-CD                                          0   \nS-B-CD                                          0   \nSBE-B-CD                                        0   \nTM-B-CD                                         0   \n\n                tianjia_Num Aliphatic Heterocycles  \\\nB-CD                                            15   \nCM-B-CD                                         21   \nDM-B-CD                                         15   \nHP-B-CD                                         15   \nHP-R-CD                                         32   \nL-Phe+Cu2+                                       1   \nL-proline+Cu2+                                   2   \nM-B-CD                                          15   \nS-B-CD                                          15   \nSBE-B-CD                                         0   \nTM-B-CD                                         15   \n\n                tianjia_Num Aliphatic Rings  tianjia_Ring Count  \\\nB-CD                                     15                  15   \nCM-B-CD                                  21                  21   \nDM-B-CD                                  15                  15   \nHP-B-CD                                  15                  15   \nHP-R-CD                                  32                  32   \nL-Phe+Cu2+                                2                   2   \nL-proline+Cu2+                            4                   4   \nM-B-CD                                   15                  15   \nS-B-CD                                   15                  15   \nSBE-B-CD                                  0                   0   \nTM-B-CD                                  15                  15   \n\n                tianjia_Num Valence Electrons  tianjia_Labute ASA  \\\nB-CD                                      448          534.091781   \nCM-B-CD                                   602          707.796029   \nDM-B-CD                                   532          665.797122   \nHP-B-CD                                   616          762.559143   \nHP-R-CD                                   512          610.195110   \nL-Phe+Cu2+                                 74           97.389225   \nL-proline+Cu2+                            188          251.365641   \nM-B-CD                                    520          646.982073   \nS-B-CD                                    616          678.748955   \nSBE-B-CD                                  132          192.266899   \nTM-B-CD                                   574          731.649792   \n\n                tianjia_LogP  tianjia_Number of Hydrogen Acceptors  ...  \\\nB-CD                -15.2306                                    35  ...   \nCM-B-CD             -14.4683                                    49  ...   \nDM-B-CD              -6.0732                                    35  ...   \nHP-B-CD             -12.3949                                    42  ...   \nHP-R-CD             -17.4064                                    40  ...   \nL-Phe+Cu2+            0.7612                                     2  ...   \nL-proline+Cu2+        3.7108                                     5  ...   \nM-B-CD               -7.3814                                    35  ...   \nS-B-CD              -18.8391                                    56  ...   \nSBE-B-CD              6.5489                                     2  ...   \nTM-B-CD              -1.4945                                    35  ...   \n\n                tianjia_Topological Polar Surface Area  tianjia_chi0  \\\nB-CD                                            554.05    115.748737   \nCM-B-CD                                         738.15    149.239937   \nDM-B-CD                                         400.05    150.748737   \nHP-B-CD                                         618.66    173.198485   \nHP-R-CD                                         633.20    132.284271   \nL-Phe+Cu2+                                       43.40     17.955665   \nL-proline+Cu2+                                   89.10     56.187716   \nM-B-CD                                          422.05    145.748737   \nS-B-CD                                          877.45    133.248737   \nSBE-B-CD                                         37.30     45.712660   \nTM-B-CD                                         323.05    168.248737   \n\n                tianjia_chi1  tianjia_kappa1  tianjia_kappa2  tianjia_kappa3  \\\nB-CD               65.423359       18.067180       26.029053       12.055260   \nCM-B-CD            83.818148       28.494708       41.185505       22.713404   \nDM-B-CD            81.473611       18.573330       35.392845       16.348897   \nHP-B-CD            94.873106       21.885093       41.381888       23.728684   \nHP-R-CD            74.769553       20.717461       30.000106       13.780189   \nL-Phe+Cu2+         10.303254        3.460460        4.759513        2.672704   \nL-proline+Cu2+     30.246465        6.440800       11.529167        6.330897   \nM-B-CD             79.180718       18.469558       34.006663       14.806328   \nS-B-CD             73.448485       37.218429       36.160562       24.637091   \nSBE-B-CD           24.409584        4.166097       20.963630       21.920000   \nTM-B-CD            89.498737       18.993080       40.356864       17.829753   \n\n                tianjia_HallKierAlpha  \\\nB-CD                        -1.400000   \nCM-B-CD                     -1.960000   \nDM-B-CD                     -1.400000   \nHP-B-CD                     -1.680000   \nHP-R-CD                     -1.600000   \nL-Phe+Cu2+                   0.399481   \nL-proline+Cu2+               0.239481   \nM-B-CD                      -1.400000   \nS-B-CD                       0.210000   \nSBE-B-CD                    -0.080000   \nTM-B-CD                     -1.400000   \n\n                                        tianjia_maccs_fingerprint  \\\nB-CD            [0, 0, 0, 0, 0, 0, 0, 0, 0, 0, 0, 0, 0, 0, 0, ...   \nCM-B-CD         [0, 0, 0, 0, 0, 0, 0, 0, 0, 0, 0, 0, 0, 0, 0, ...   \nDM-B-CD         [0, 0, 0, 0, 0, 0, 0, 0, 0, 0, 0, 0, 0, 0, 0, ...   \nHP-B-CD         [0, 0, 0, 0, 0, 0, 0, 0, 0, 0, 0, 0, 0, 0, 0, ...   \nHP-R-CD         [0, 0, 0, 0, 0, 0, 0, 0, 0, 0, 0, 0, 0, 0, 0, ...   \nL-Phe+Cu2+      [0, 0, 0, 0, 0, 0, 0, 0, 0, 0, 0, 0, 1, 0, 0, ...   \nL-proline+Cu2+  [0, 0, 0, 0, 0, 0, 0, 0, 0, 0, 0, 0, 1, 0, 0, ...   \nM-B-CD          [0, 0, 0, 0, 0, 0, 0, 0, 0, 0, 0, 0, 0, 0, 0, ...   \nS-B-CD          [0, 0, 0, 0, 0, 0, 0, 0, 0, 0, 0, 0, 0, 0, 0, ...   \nSBE-B-CD        [0, 0, 0, 0, 0, 0, 0, 0, 0, 0, 0, 0, 0, 0, 0, ...   \nTM-B-CD         [0, 0, 0, 0, 0, 0, 0, 0, 0, 0, 0, 0, 0, 0, 0, ...   \n\n                                      tianjia_topological_torsion  \\\nB-CD            [0, 0, 0, 0, 0, 0, 0, 0, 0, 0, 0, 0, 0, 0, 0, ...   \nCM-B-CD         [0, 0, 0, 0, 0, 0, 0, 0, 0, 0, 0, 0, 0, 0, 0, ...   \nDM-B-CD         [0, 0, 0, 0, 0, 0, 0, 0, 0, 0, 0, 0, 0, 0, 0, ...   \nHP-B-CD         [0, 0, 0, 0, 0, 0, 0, 0, 0, 0, 0, 0, 0, 0, 0, ...   \nHP-R-CD         [0, 0, 0, 0, 0, 0, 0, 0, 0, 0, 0, 0, 0, 0, 0, ...   \nL-Phe+Cu2+      [0, 0, 0, 0, 0, 0, 0, 0, 0, 0, 0, 0, 0, 0, 0, ...   \nL-proline+Cu2+  [0, 0, 0, 0, 0, 0, 0, 0, 0, 0, 0, 0, 0, 0, 0, ...   \nM-B-CD          [0, 0, 0, 0, 0, 0, 0, 0, 0, 0, 0, 0, 0, 0, 0, ...   \nS-B-CD          [0, 0, 0, 0, 0, 0, 0, 0, 0, 0, 0, 0, 0, 0, 0, ...   \nSBE-B-CD        [0, 0, 0, 0, 0, 0, 0, 0, 0, 0, 0, 0, 0, 0, 0, ...   \nTM-B-CD         [0, 0, 0, 0, 0, 0, 0, 0, 0, 0, 0, 0, 0, 0, 0, ...   \n\n                                       tianjia_Morgan Fingerprint  \nB-CD            [0, 0, 0, 0, 0, 0, 0, 0, 0, 0, 0, 0, 0, 1, 0, ...  \nCM-B-CD         [0, 0, 0, 0, 0, 0, 0, 0, 0, 0, 0, 0, 0, 1, 0, ...  \nDM-B-CD         [0, 0, 0, 0, 0, 0, 0, 0, 0, 0, 0, 0, 0, 0, 0, ...  \nHP-B-CD         [0, 1, 0, 0, 0, 0, 0, 0, 0, 0, 0, 0, 0, 1, 0, ...  \nHP-R-CD         [0, 0, 0, 0, 0, 0, 0, 0, 0, 0, 0, 0, 0, 1, 0, ...  \nL-Phe+Cu2+      [0, 0, 0, 0, 0, 0, 0, 0, 0, 0, 0, 0, 0, 0, 0, ...  \nL-proline+Cu2+  [0, 1, 0, 0, 0, 0, 0, 0, 0, 0, 0, 0, 0, 0, 0, ...  \nM-B-CD          [0, 0, 0, 0, 0, 0, 0, 0, 0, 0, 0, 0, 0, 0, 0, ...  \nS-B-CD          [0, 0, 0, 0, 0, 0, 0, 0, 0, 0, 0, 0, 0, 1, 0, ...  \nSBE-B-CD        [0, 0, 0, 0, 0, 0, 0, 0, 0, 0, 0, 0, 0, 0, 0, ...  \nTM-B-CD         [0, 0, 0, 0, 0, 0, 0, 0, 0, 0, 0, 0, 0, 0, 0, ...  \n\n[11 rows x 21 columns]",
      "text/html": "<div>\n<style scoped>\n    .dataframe tbody tr th:only-of-type {\n        vertical-align: middle;\n    }\n\n    .dataframe tbody tr th {\n        vertical-align: top;\n    }\n\n    .dataframe thead th {\n        text-align: right;\n    }\n</style>\n<table border=\"1\" class=\"dataframe\">\n  <thead>\n    <tr style=\"text-align: right;\">\n      <th></th>\n      <th>tianjia_Molecular Weight</th>\n      <th>tianjia_heavy_atom_count</th>\n      <th>tianjia_Num Aliphatic Carbocycles</th>\n      <th>tianjia_Num Aliphatic Heterocycles</th>\n      <th>tianjia_Num Aliphatic Rings</th>\n      <th>tianjia_Ring Count</th>\n      <th>tianjia_Num Valence Electrons</th>\n      <th>tianjia_Labute ASA</th>\n      <th>tianjia_LogP</th>\n      <th>tianjia_Number of Hydrogen Acceptors</th>\n      <th>...</th>\n      <th>tianjia_Topological Polar Surface Area</th>\n      <th>tianjia_chi0</th>\n      <th>tianjia_chi1</th>\n      <th>tianjia_kappa1</th>\n      <th>tianjia_kappa2</th>\n      <th>tianjia_kappa3</th>\n      <th>tianjia_HallKierAlpha</th>\n      <th>tianjia_maccs_fingerprint</th>\n      <th>tianjia_topological_torsion</th>\n      <th>tianjia_Morgan Fingerprint</th>\n    </tr>\n  </thead>\n  <tbody>\n    <tr>\n      <th>B-CD</th>\n      <td>1134.987</td>\n      <td>77</td>\n      <td>0</td>\n      <td>15</td>\n      <td>15</td>\n      <td>15</td>\n      <td>448</td>\n      <td>534.091781</td>\n      <td>-15.2306</td>\n      <td>35</td>\n      <td>...</td>\n      <td>554.05</td>\n      <td>115.748737</td>\n      <td>65.423359</td>\n      <td>18.067180</td>\n      <td>26.029053</td>\n      <td>12.055260</td>\n      <td>-1.400000</td>\n      <td>[0, 0, 0, 0, 0, 0, 0, 0, 0, 0, 0, 0, 0, 0, 0, ...</td>\n      <td>[0, 0, 0, 0, 0, 0, 0, 0, 0, 0, 0, 0, 0, 0, 0, ...</td>\n      <td>[0, 0, 0, 0, 0, 0, 0, 0, 0, 0, 0, 0, 0, 1, 0, ...</td>\n    </tr>\n    <tr>\n      <th>CM-B-CD</th>\n      <td>1541.239</td>\n      <td>105</td>\n      <td>0</td>\n      <td>21</td>\n      <td>21</td>\n      <td>21</td>\n      <td>602</td>\n      <td>707.796029</td>\n      <td>-14.4683</td>\n      <td>49</td>\n      <td>...</td>\n      <td>738.15</td>\n      <td>149.239937</td>\n      <td>83.818148</td>\n      <td>28.494708</td>\n      <td>41.185505</td>\n      <td>22.713404</td>\n      <td>-1.960000</td>\n      <td>[0, 0, 0, 0, 0, 0, 0, 0, 0, 0, 0, 0, 0, 0, 0, ...</td>\n      <td>[0, 0, 0, 0, 0, 0, 0, 0, 0, 0, 0, 0, 0, 0, 0, ...</td>\n      <td>[0, 0, 0, 0, 0, 0, 0, 0, 0, 0, 0, 0, 0, 1, 0, ...</td>\n    </tr>\n    <tr>\n      <th>DM-B-CD</th>\n      <td>1331.365</td>\n      <td>91</td>\n      <td>0</td>\n      <td>15</td>\n      <td>15</td>\n      <td>15</td>\n      <td>532</td>\n      <td>665.797122</td>\n      <td>-6.0732</td>\n      <td>35</td>\n      <td>...</td>\n      <td>400.05</td>\n      <td>150.748737</td>\n      <td>81.473611</td>\n      <td>18.573330</td>\n      <td>35.392845</td>\n      <td>16.348897</td>\n      <td>-1.400000</td>\n      <td>[0, 0, 0, 0, 0, 0, 0, 0, 0, 0, 0, 0, 0, 0, 0, ...</td>\n      <td>[0, 0, 0, 0, 0, 0, 0, 0, 0, 0, 0, 0, 0, 0, 0, ...</td>\n      <td>[0, 0, 0, 0, 0, 0, 0, 0, 0, 0, 0, 0, 0, 0, 0, ...</td>\n    </tr>\n    <tr>\n      <th>HP-B-CD</th>\n      <td>1541.547</td>\n      <td>105</td>\n      <td>0</td>\n      <td>15</td>\n      <td>15</td>\n      <td>15</td>\n      <td>616</td>\n      <td>762.559143</td>\n      <td>-12.3949</td>\n      <td>42</td>\n      <td>...</td>\n      <td>618.66</td>\n      <td>173.198485</td>\n      <td>94.873106</td>\n      <td>21.885093</td>\n      <td>41.381888</td>\n      <td>23.728684</td>\n      <td>-1.680000</td>\n      <td>[0, 0, 0, 0, 0, 0, 0, 0, 0, 0, 0, 0, 0, 0, 0, ...</td>\n      <td>[0, 0, 0, 0, 0, 0, 0, 0, 0, 0, 0, 0, 0, 0, 0, ...</td>\n      <td>[0, 1, 0, 0, 0, 0, 0, 0, 0, 0, 0, 0, 0, 1, 0, ...</td>\n    </tr>\n    <tr>\n      <th>HP-R-CD</th>\n      <td>1297.128</td>\n      <td>88</td>\n      <td>0</td>\n      <td>32</td>\n      <td>32</td>\n      <td>32</td>\n      <td>512</td>\n      <td>610.195110</td>\n      <td>-17.4064</td>\n      <td>40</td>\n      <td>...</td>\n      <td>633.20</td>\n      <td>132.284271</td>\n      <td>74.769553</td>\n      <td>20.717461</td>\n      <td>30.000106</td>\n      <td>13.780189</td>\n      <td>-1.600000</td>\n      <td>[0, 0, 0, 0, 0, 0, 0, 0, 0, 0, 0, 0, 0, 0, 0, ...</td>\n      <td>[0, 0, 0, 0, 0, 0, 0, 0, 0, 0, 0, 0, 0, 0, 0, ...</td>\n      <td>[0, 0, 0, 0, 0, 0, 0, 0, 0, 0, 0, 0, 0, 1, 0, ...</td>\n    </tr>\n    <tr>\n      <th>L-Phe+Cu2+</th>\n      <td>227.730</td>\n      <td>13</td>\n      <td>1</td>\n      <td>1</td>\n      <td>2</td>\n      <td>2</td>\n      <td>74</td>\n      <td>97.389225</td>\n      <td>0.7612</td>\n      <td>2</td>\n      <td>...</td>\n      <td>43.40</td>\n      <td>17.955665</td>\n      <td>10.303254</td>\n      <td>3.460460</td>\n      <td>4.759513</td>\n      <td>2.672704</td>\n      <td>0.399481</td>\n      <td>[0, 0, 0, 0, 0, 0, 0, 0, 0, 0, 0, 0, 1, 0, 0, ...</td>\n      <td>[0, 0, 0, 0, 0, 0, 0, 0, 0, 0, 0, 0, 0, 0, 0, ...</td>\n      <td>[0, 0, 0, 0, 0, 0, 0, 0, 0, 0, 0, 0, 0, 0, 0, ...</td>\n    </tr>\n    <tr>\n      <th>L-proline+Cu2+</th>\n      <td>509.126</td>\n      <td>33</td>\n      <td>2</td>\n      <td>2</td>\n      <td>4</td>\n      <td>4</td>\n      <td>188</td>\n      <td>251.365641</td>\n      <td>3.7108</td>\n      <td>5</td>\n      <td>...</td>\n      <td>89.10</td>\n      <td>56.187716</td>\n      <td>30.246465</td>\n      <td>6.440800</td>\n      <td>11.529167</td>\n      <td>6.330897</td>\n      <td>0.239481</td>\n      <td>[0, 0, 0, 0, 0, 0, 0, 0, 0, 0, 0, 0, 1, 0, 0, ...</td>\n      <td>[0, 0, 0, 0, 0, 0, 0, 0, 0, 0, 0, 0, 0, 0, 0, ...</td>\n      <td>[0, 1, 0, 0, 0, 0, 0, 0, 0, 0, 0, 0, 0, 0, 0, ...</td>\n    </tr>\n    <tr>\n      <th>M-B-CD</th>\n      <td>1303.311</td>\n      <td>89</td>\n      <td>0</td>\n      <td>15</td>\n      <td>15</td>\n      <td>15</td>\n      <td>520</td>\n      <td>646.982073</td>\n      <td>-7.3814</td>\n      <td>35</td>\n      <td>...</td>\n      <td>422.05</td>\n      <td>145.748737</td>\n      <td>79.180718</td>\n      <td>18.469558</td>\n      <td>34.006663</td>\n      <td>14.806328</td>\n      <td>-1.400000</td>\n      <td>[0, 0, 0, 0, 0, 0, 0, 0, 0, 0, 0, 0, 0, 0, 0, ...</td>\n      <td>[0, 0, 0, 0, 0, 0, 0, 0, 0, 0, 0, 0, 0, 0, 0, ...</td>\n      <td>[0, 0, 0, 0, 0, 0, 0, 0, 0, 0, 0, 0, 0, 0, 0, ...</td>\n    </tr>\n    <tr>\n      <th>S-B-CD</th>\n      <td>1688.379</td>\n      <td>105</td>\n      <td>0</td>\n      <td>15</td>\n      <td>15</td>\n      <td>15</td>\n      <td>616</td>\n      <td>678.748955</td>\n      <td>-18.8391</td>\n      <td>56</td>\n      <td>...</td>\n      <td>877.45</td>\n      <td>133.248737</td>\n      <td>73.448485</td>\n      <td>37.218429</td>\n      <td>36.160562</td>\n      <td>24.637091</td>\n      <td>0.210000</td>\n      <td>[0, 0, 0, 0, 0, 0, 0, 0, 0, 0, 0, 0, 0, 0, 0, ...</td>\n      <td>[0, 0, 0, 0, 0, 0, 0, 0, 0, 0, 0, 0, 0, 0, 0, ...</td>\n      <td>[0, 0, 0, 0, 0, 0, 0, 0, 0, 0, 0, 0, 0, 1, 0, ...</td>\n    </tr>\n    <tr>\n      <th>SBE-B-CD</th>\n      <td>328.496</td>\n      <td>24</td>\n      <td>0</td>\n      <td>0</td>\n      <td>0</td>\n      <td>0</td>\n      <td>132</td>\n      <td>192.266899</td>\n      <td>6.5489</td>\n      <td>2</td>\n      <td>...</td>\n      <td>37.30</td>\n      <td>45.712660</td>\n      <td>24.409584</td>\n      <td>4.166097</td>\n      <td>20.963630</td>\n      <td>21.920000</td>\n      <td>-0.080000</td>\n      <td>[0, 0, 0, 0, 0, 0, 0, 0, 0, 0, 0, 0, 0, 0, 0, ...</td>\n      <td>[0, 0, 0, 0, 0, 0, 0, 0, 0, 0, 0, 0, 0, 0, 0, ...</td>\n      <td>[0, 0, 0, 0, 0, 0, 0, 0, 0, 0, 0, 0, 0, 0, 0, ...</td>\n    </tr>\n    <tr>\n      <th>TM-B-CD</th>\n      <td>1429.554</td>\n      <td>98</td>\n      <td>0</td>\n      <td>15</td>\n      <td>15</td>\n      <td>15</td>\n      <td>574</td>\n      <td>731.649792</td>\n      <td>-1.4945</td>\n      <td>35</td>\n      <td>...</td>\n      <td>323.05</td>\n      <td>168.248737</td>\n      <td>89.498737</td>\n      <td>18.993080</td>\n      <td>40.356864</td>\n      <td>17.829753</td>\n      <td>-1.400000</td>\n      <td>[0, 0, 0, 0, 0, 0, 0, 0, 0, 0, 0, 0, 0, 0, 0, ...</td>\n      <td>[0, 0, 0, 0, 0, 0, 0, 0, 0, 0, 0, 0, 0, 0, 0, ...</td>\n      <td>[0, 0, 0, 0, 0, 0, 0, 0, 0, 0, 0, 0, 0, 0, 0, ...</td>\n    </tr>\n  </tbody>\n</table>\n<p>11 rows × 21 columns</p>\n</div>"
     },
     "execution_count": 26,
     "metadata": {},
     "output_type": "execute_result"
    }
   ],
   "source": [
    "df"
   ],
   "metadata": {
    "collapsed": false,
    "pycharm": {
     "name": "#%%\n"
    }
   }
  }
 ],
 "metadata": {
  "kernelspec": {
   "display_name": "Python 3",
   "language": "python",
   "name": "python3"
  },
  "language_info": {
   "codemirror_mode": {
    "name": "ipython",
    "version": 2
   },
   "file_extension": ".py",
   "mimetype": "text/x-python",
   "name": "python",
   "nbconvert_exporter": "python",
   "pygments_lexer": "ipython2",
   "version": "2.7.6"
  }
 },
 "nbformat": 4,
 "nbformat_minor": 0
}