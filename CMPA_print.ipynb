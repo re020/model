{
 "cells": [
  {
   "cell_type": "code",
   "execution_count": 1,
   "outputs": [],
   "source": [
    "import os\n",
    "import pandas as pd\n",
    "import numpy as np\n",
    "from rdkit.Chem import AllChem,DataStructs\n",
    "from rdkit.Chem import MACCSkeys\n",
    "from rdkit.Chem import Descriptors\n",
    "from rdkit.Chem import rdMolDescriptors"
   ],
   "metadata": {
    "collapsed": false,
    "pycharm": {
     "name": "#%%\n"
    }
   }
  },
  {
   "cell_type": "code",
   "execution_count": 2,
   "outputs": [],
   "source": [
    "from rdkit import Chem\n",
    "from rdkit.Chem import AllChem"
   ],
   "metadata": {
    "collapsed": false,
    "pycharm": {
     "name": "#%%\n"
    }
   }
  },
  {
   "cell_type": "code",
   "execution_count": 3,
   "outputs": [
    {
     "name": "stderr",
     "output_type": "stream",
     "text": [
      "[19:15:03] Warning: molecule is tagged as 2D, but at least one Z coordinate is not zero. Marking the mol as 3D.\n",
      "[19:15:03] DEPRECATION WARNING: please use MorganGenerator\n",
      "[19:15:03] DEPRECATION WARNING: please use TopologicalTorsionGenerator\n",
      "[19:15:03] Warning: molecule is tagged as 2D, but at least one Z coordinate is not zero. Marking the mol as 3D.\n",
      "[19:15:03] DEPRECATION WARNING: please use MorganGenerator\n",
      "[19:15:03] DEPRECATION WARNING: please use TopologicalTorsionGenerator\n",
      "[19:15:03] Warning: molecule is tagged as 2D, but at least one Z coordinate is not zero. Marking the mol as 3D.\n",
      "[19:15:03] DEPRECATION WARNING: please use MorganGenerator\n",
      "[19:15:03] DEPRECATION WARNING: please use TopologicalTorsionGenerator\n",
      "[19:15:03] Warning: molecule is tagged as 2D, but at least one Z coordinate is not zero. Marking the mol as 3D.\n",
      "[19:15:03] DEPRECATION WARNING: please use MorganGenerator\n",
      "[19:15:03] DEPRECATION WARNING: please use TopologicalTorsionGenerator\n",
      "[19:15:03] Warning: molecule is tagged as 2D, but at least one Z coordinate is not zero. Marking the mol as 3D.\n",
      "[19:15:03] DEPRECATION WARNING: please use MorganGenerator\n",
      "[19:15:03] DEPRECATION WARNING: please use TopologicalTorsionGenerator\n",
      "[19:15:03] Warning: molecule is tagged as 2D, but at least one Z coordinate is not zero. Marking the mol as 3D.\n",
      "[19:15:03] DEPRECATION WARNING: please use MorganGenerator\n",
      "[19:15:03] DEPRECATION WARNING: please use TopologicalTorsionGenerator\n",
      "[19:15:03] Warning: molecule is tagged as 2D, but at least one Z coordinate is not zero. Marking the mol as 3D.\n",
      "[19:15:03] DEPRECATION WARNING: please use MorganGenerator\n",
      "[19:15:03] DEPRECATION WARNING: please use TopologicalTorsionGenerator\n",
      "[19:15:03] Warning: molecule is tagged as 2D, but at least one Z coordinate is not zero. Marking the mol as 3D.\n",
      "[19:15:03] DEPRECATION WARNING: please use MorganGenerator\n",
      "[19:15:03] DEPRECATION WARNING: please use TopologicalTorsionGenerator\n",
      "[19:15:03] Warning: molecule is tagged as 2D, but at least one Z coordinate is not zero. Marking the mol as 3D.\n",
      "[19:15:03] DEPRECATION WARNING: please use MorganGenerator\n",
      "[19:15:03] DEPRECATION WARNING: please use TopologicalTorsionGenerator\n",
      "[19:15:03] Warning: molecule is tagged as 2D, but at least one Z coordinate is not zero. Marking the mol as 3D.\n",
      "[19:15:03] DEPRECATION WARNING: please use MorganGenerator\n",
      "[19:15:03] DEPRECATION WARNING: please use TopologicalTorsionGenerator\n"
     ]
    },
    {
     "name": "stdout",
     "output_type": "stream",
     "text": [
      "Index(['CMPA_maccs_fingerprint', 'CMPA_topological_torsion',\n",
      "       'CMPA_Morgan Fingerprint', 'CMPA_maccs_fingerprint_0',\n",
      "       'CMPA_maccs_fingerprint_1', 'CMPA_maccs_fingerprint_2',\n",
      "       'CMPA_maccs_fingerprint_3', 'CMPA_maccs_fingerprint_4',\n",
      "       'CMPA_maccs_fingerprint_5', 'CMPA_maccs_fingerprint_6',\n",
      "       ...\n",
      "       'CMPA_topological_torsion_2038', 'CMPA_topological_torsion_2039',\n",
      "       'CMPA_topological_torsion_2040', 'CMPA_topological_torsion_2041',\n",
      "       'CMPA_topological_torsion_2042', 'CMPA_topological_torsion_2043',\n",
      "       'CMPA_topological_torsion_2044', 'CMPA_topological_torsion_2045',\n",
      "       'CMPA_topological_torsion_2046', 'CMPA_topological_torsion_2047'],\n",
      "      dtype='object', length=3242)\n"
     ]
    },
    {
     "name": "stderr",
     "output_type": "stream",
     "text": [
      "[19:15:03] Warning: molecule is tagged as 2D, but at least one Z coordinate is not zero. Marking the mol as 3D.\n",
      "[19:15:03] DEPRECATION WARNING: please use MorganGenerator\n",
      "[19:15:03] DEPRECATION WARNING: please use TopologicalTorsionGenerator\n"
     ]
    }
   ],
   "source": [
    "folder_path = r\"C:\\Users\\re\\Desktop\\data\\dataset\\tianjia\\huan\"\n",
    "# 初始化空的DataFrame\n",
    "columns = ['CMPA_maccs_fingerprint','CMPA_topological_torsion','CMPA_Morgan Fingerprint']\n",
    "df = pd.DataFrame(columns=columns)\n",
    "\n",
    "for filename in os.listdir(folder_path):\n",
    "    if filename.endswith(\".sdf\"):\n",
    "        file_path = os.path.join(folder_path, filename)\n",
    "        mol = Chem.MolFromMolFile(file_path, sanitize=False)  # 读取分子，不进行sanitize\n",
    "\n",
    "        if mol is None:\n",
    "            print(f\"Failed to load molecule from {filename}\")\n",
    "            continue\n",
    "\n",
    "        # 手动初始化环信息\n",
    "        mol.UpdatePropertyCache(strict=False)\n",
    "        Chem.GetSymmSSSR(mol)  # 计算并储存环信息\n",
    "\n",
    "        # 初始化存储指纹值的字典\n",
    "        data = {}\n",
    "\n",
    "        # MACCS键型指纹\n",
    "        fp_maccs = MACCSkeys.GenMACCSKeys(mol)\n",
    "        arr_maccs = np.zeros((1, ), dtype=np.int8)\n",
    "        DataStructs.ConvertToNumpyArray(fp_maccs, arr_maccs)\n",
    "        for i in range(len(arr_maccs)):\n",
    "            data[f'CMPA_maccs_fingerprint_{i}'] = arr_maccs[i]\n",
    "\n",
    "        # 摩根指纹\n",
    "        fp_Morgan = AllChem.GetMorganFingerprintAsBitVect(mol, radius=2, nBits=1024)\n",
    "        arr_Morgan = np.zeros((1, ), dtype=np.int8)\n",
    "        DataStructs.ConvertToNumpyArray(fp_Morgan, arr_Morgan)\n",
    "        for i in range(len(arr_Morgan)):\n",
    "            data[f'CMPA_Morgan_fingerprint_{i}'] = arr_Morgan[i]\n",
    "\n",
    "        # 计算拓扑扭曲指纹\n",
    "        fp_top = AllChem.GetHashedTopologicalTorsionFingerprintAsBitVect(mol)\n",
    "        arr_top = np.zeros((1, ), dtype=int)\n",
    "        DataStructs.ConvertToNumpyArray(fp_top, arr_top)\n",
    "        for i in range(len(arr_top)):\n",
    "            data[f'CMPA_topological_torsion_{i}'] = arr_top[i]\n",
    "\n",
    "        # 将结果添加到DataFrame中\n",
    "        df = df._append(pd.Series(data, name=filename[:-4]))\n",
    "\n",
    "# 如果需要，可以保存DataFrame到CSV文件\n",
    "print(df.columns)\n",
    "df=df.drop(['CMPA_maccs_fingerprint','CMPA_topological_torsion','CMPA_Morgan Fingerprint'],axis=1)\n",
    "df.to_csv('tianjia_huan_print_01.csv')"
   ],
   "metadata": {
    "collapsed": false,
    "pycharm": {
     "name": "#%%\n"
    }
   }
  },
  {
   "cell_type": "code",
   "execution_count": 5,
   "outputs": [
    {
     "data": {
      "text/plain": "                CMPA_maccs_fingerprint_0  CMPA_maccs_fingerprint_1  \\\nB-CD                                 0.0                       0.0   \nCM-B-CD                              0.0                       0.0   \nDM-B-CD                              0.0                       0.0   \nHP-B-CD                              0.0                       0.0   \nHP-R-CD                              0.0                       0.0   \nL-Phe+Cu2+                           0.0                       0.0   \nL-proline+Cu2+                       0.0                       0.0   \nM-B-CD                               0.0                       0.0   \nS-B-CD                               0.0                       0.0   \nSBE-B-CD                             0.0                       0.0   \nTM-B-CD                              0.0                       0.0   \n\n                CMPA_maccs_fingerprint_2  CMPA_maccs_fingerprint_3  \\\nB-CD                                 0.0                       0.0   \nCM-B-CD                              0.0                       0.0   \nDM-B-CD                              0.0                       0.0   \nHP-B-CD                              0.0                       0.0   \nHP-R-CD                              0.0                       0.0   \nL-Phe+Cu2+                           0.0                       0.0   \nL-proline+Cu2+                       0.0                       0.0   \nM-B-CD                               0.0                       0.0   \nS-B-CD                               0.0                       0.0   \nSBE-B-CD                             0.0                       0.0   \nTM-B-CD                              0.0                       0.0   \n\n                CMPA_maccs_fingerprint_4  CMPA_maccs_fingerprint_5  \\\nB-CD                                 0.0                       0.0   \nCM-B-CD                              0.0                       0.0   \nDM-B-CD                              0.0                       0.0   \nHP-B-CD                              0.0                       0.0   \nHP-R-CD                              0.0                       0.0   \nL-Phe+Cu2+                           0.0                       0.0   \nL-proline+Cu2+                       0.0                       0.0   \nM-B-CD                               0.0                       0.0   \nS-B-CD                               0.0                       0.0   \nSBE-B-CD                             0.0                       0.0   \nTM-B-CD                              0.0                       0.0   \n\n                CMPA_maccs_fingerprint_6  CMPA_maccs_fingerprint_7  \\\nB-CD                                 0.0                       0.0   \nCM-B-CD                              0.0                       0.0   \nDM-B-CD                              0.0                       0.0   \nHP-B-CD                              0.0                       0.0   \nHP-R-CD                              0.0                       0.0   \nL-Phe+Cu2+                           0.0                       0.0   \nL-proline+Cu2+                       0.0                       0.0   \nM-B-CD                               0.0                       0.0   \nS-B-CD                               0.0                       0.0   \nSBE-B-CD                             0.0                       0.0   \nTM-B-CD                              0.0                       0.0   \n\n                CMPA_maccs_fingerprint_8  CMPA_maccs_fingerprint_9  ...  \\\nB-CD                                 0.0                       0.0  ...   \nCM-B-CD                              0.0                       0.0  ...   \nDM-B-CD                              0.0                       0.0  ...   \nHP-B-CD                              0.0                       0.0  ...   \nHP-R-CD                              0.0                       0.0  ...   \nL-Phe+Cu2+                           0.0                       0.0  ...   \nL-proline+Cu2+                       0.0                       0.0  ...   \nM-B-CD                               0.0                       0.0  ...   \nS-B-CD                               0.0                       0.0  ...   \nSBE-B-CD                             0.0                       0.0  ...   \nTM-B-CD                              0.0                       0.0  ...   \n\n                CMPA_topological_torsion_2038  CMPA_topological_torsion_2039  \\\nB-CD                                      0.0                            0.0   \nCM-B-CD                                   0.0                            0.0   \nDM-B-CD                                   0.0                            0.0   \nHP-B-CD                                   0.0                            0.0   \nHP-R-CD                                   0.0                            0.0   \nL-Phe+Cu2+                                0.0                            0.0   \nL-proline+Cu2+                            0.0                            0.0   \nM-B-CD                                    0.0                            0.0   \nS-B-CD                                    0.0                            0.0   \nSBE-B-CD                                  0.0                            0.0   \nTM-B-CD                                   0.0                            0.0   \n\n                CMPA_topological_torsion_2040  CMPA_topological_torsion_2041  \\\nB-CD                                      0.0                            0.0   \nCM-B-CD                                   0.0                            0.0   \nDM-B-CD                                   0.0                            0.0   \nHP-B-CD                                   0.0                            0.0   \nHP-R-CD                                   0.0                            0.0   \nL-Phe+Cu2+                                0.0                            0.0   \nL-proline+Cu2+                            0.0                            0.0   \nM-B-CD                                    0.0                            0.0   \nS-B-CD                                    0.0                            0.0   \nSBE-B-CD                                  0.0                            0.0   \nTM-B-CD                                   0.0                            0.0   \n\n                CMPA_topological_torsion_2042  CMPA_topological_torsion_2043  \\\nB-CD                                      0.0                            0.0   \nCM-B-CD                                   0.0                            0.0   \nDM-B-CD                                   0.0                            0.0   \nHP-B-CD                                   0.0                            0.0   \nHP-R-CD                                   0.0                            0.0   \nL-Phe+Cu2+                                0.0                            0.0   \nL-proline+Cu2+                            0.0                            0.0   \nM-B-CD                                    0.0                            0.0   \nS-B-CD                                    0.0                            0.0   \nSBE-B-CD                                  0.0                            0.0   \nTM-B-CD                                   0.0                            0.0   \n\n                CMPA_topological_torsion_2044  CMPA_topological_torsion_2045  \\\nB-CD                                      0.0                            0.0   \nCM-B-CD                                   0.0                            0.0   \nDM-B-CD                                   0.0                            0.0   \nHP-B-CD                                   0.0                            0.0   \nHP-R-CD                                   0.0                            0.0   \nL-Phe+Cu2+                                0.0                            0.0   \nL-proline+Cu2+                            0.0                            0.0   \nM-B-CD                                    0.0                            0.0   \nS-B-CD                                    0.0                            0.0   \nSBE-B-CD                                  0.0                            0.0   \nTM-B-CD                                   0.0                            0.0   \n\n                CMPA_topological_torsion_2046  CMPA_topological_torsion_2047  \nB-CD                                      0.0                            0.0  \nCM-B-CD                                   0.0                            0.0  \nDM-B-CD                                   0.0                            0.0  \nHP-B-CD                                   0.0                            0.0  \nHP-R-CD                                   0.0                            0.0  \nL-Phe+Cu2+                                0.0                            0.0  \nL-proline+Cu2+                            0.0                            0.0  \nM-B-CD                                    0.0                            0.0  \nS-B-CD                                    0.0                            0.0  \nSBE-B-CD                                  0.0                            0.0  \nTM-B-CD                                   0.0                            0.0  \n\n[11 rows x 3239 columns]",
      "text/html": "<div>\n<style scoped>\n    .dataframe tbody tr th:only-of-type {\n        vertical-align: middle;\n    }\n\n    .dataframe tbody tr th {\n        vertical-align: top;\n    }\n\n    .dataframe thead th {\n        text-align: right;\n    }\n</style>\n<table border=\"1\" class=\"dataframe\">\n  <thead>\n    <tr style=\"text-align: right;\">\n      <th></th>\n      <th>CMPA_maccs_fingerprint_0</th>\n      <th>CMPA_maccs_fingerprint_1</th>\n      <th>CMPA_maccs_fingerprint_2</th>\n      <th>CMPA_maccs_fingerprint_3</th>\n      <th>CMPA_maccs_fingerprint_4</th>\n      <th>CMPA_maccs_fingerprint_5</th>\n      <th>CMPA_maccs_fingerprint_6</th>\n      <th>CMPA_maccs_fingerprint_7</th>\n      <th>CMPA_maccs_fingerprint_8</th>\n      <th>CMPA_maccs_fingerprint_9</th>\n      <th>...</th>\n      <th>CMPA_topological_torsion_2038</th>\n      <th>CMPA_topological_torsion_2039</th>\n      <th>CMPA_topological_torsion_2040</th>\n      <th>CMPA_topological_torsion_2041</th>\n      <th>CMPA_topological_torsion_2042</th>\n      <th>CMPA_topological_torsion_2043</th>\n      <th>CMPA_topological_torsion_2044</th>\n      <th>CMPA_topological_torsion_2045</th>\n      <th>CMPA_topological_torsion_2046</th>\n      <th>CMPA_topological_torsion_2047</th>\n    </tr>\n  </thead>\n  <tbody>\n    <tr>\n      <th>B-CD</th>\n      <td>0.0</td>\n      <td>0.0</td>\n      <td>0.0</td>\n      <td>0.0</td>\n      <td>0.0</td>\n      <td>0.0</td>\n      <td>0.0</td>\n      <td>0.0</td>\n      <td>0.0</td>\n      <td>0.0</td>\n      <td>...</td>\n      <td>0.0</td>\n      <td>0.0</td>\n      <td>0.0</td>\n      <td>0.0</td>\n      <td>0.0</td>\n      <td>0.0</td>\n      <td>0.0</td>\n      <td>0.0</td>\n      <td>0.0</td>\n      <td>0.0</td>\n    </tr>\n    <tr>\n      <th>CM-B-CD</th>\n      <td>0.0</td>\n      <td>0.0</td>\n      <td>0.0</td>\n      <td>0.0</td>\n      <td>0.0</td>\n      <td>0.0</td>\n      <td>0.0</td>\n      <td>0.0</td>\n      <td>0.0</td>\n      <td>0.0</td>\n      <td>...</td>\n      <td>0.0</td>\n      <td>0.0</td>\n      <td>0.0</td>\n      <td>0.0</td>\n      <td>0.0</td>\n      <td>0.0</td>\n      <td>0.0</td>\n      <td>0.0</td>\n      <td>0.0</td>\n      <td>0.0</td>\n    </tr>\n    <tr>\n      <th>DM-B-CD</th>\n      <td>0.0</td>\n      <td>0.0</td>\n      <td>0.0</td>\n      <td>0.0</td>\n      <td>0.0</td>\n      <td>0.0</td>\n      <td>0.0</td>\n      <td>0.0</td>\n      <td>0.0</td>\n      <td>0.0</td>\n      <td>...</td>\n      <td>0.0</td>\n      <td>0.0</td>\n      <td>0.0</td>\n      <td>0.0</td>\n      <td>0.0</td>\n      <td>0.0</td>\n      <td>0.0</td>\n      <td>0.0</td>\n      <td>0.0</td>\n      <td>0.0</td>\n    </tr>\n    <tr>\n      <th>HP-B-CD</th>\n      <td>0.0</td>\n      <td>0.0</td>\n      <td>0.0</td>\n      <td>0.0</td>\n      <td>0.0</td>\n      <td>0.0</td>\n      <td>0.0</td>\n      <td>0.0</td>\n      <td>0.0</td>\n      <td>0.0</td>\n      <td>...</td>\n      <td>0.0</td>\n      <td>0.0</td>\n      <td>0.0</td>\n      <td>0.0</td>\n      <td>0.0</td>\n      <td>0.0</td>\n      <td>0.0</td>\n      <td>0.0</td>\n      <td>0.0</td>\n      <td>0.0</td>\n    </tr>\n    <tr>\n      <th>HP-R-CD</th>\n      <td>0.0</td>\n      <td>0.0</td>\n      <td>0.0</td>\n      <td>0.0</td>\n      <td>0.0</td>\n      <td>0.0</td>\n      <td>0.0</td>\n      <td>0.0</td>\n      <td>0.0</td>\n      <td>0.0</td>\n      <td>...</td>\n      <td>0.0</td>\n      <td>0.0</td>\n      <td>0.0</td>\n      <td>0.0</td>\n      <td>0.0</td>\n      <td>0.0</td>\n      <td>0.0</td>\n      <td>0.0</td>\n      <td>0.0</td>\n      <td>0.0</td>\n    </tr>\n    <tr>\n      <th>L-Phe+Cu2+</th>\n      <td>0.0</td>\n      <td>0.0</td>\n      <td>0.0</td>\n      <td>0.0</td>\n      <td>0.0</td>\n      <td>0.0</td>\n      <td>0.0</td>\n      <td>0.0</td>\n      <td>0.0</td>\n      <td>0.0</td>\n      <td>...</td>\n      <td>0.0</td>\n      <td>0.0</td>\n      <td>0.0</td>\n      <td>0.0</td>\n      <td>0.0</td>\n      <td>0.0</td>\n      <td>0.0</td>\n      <td>0.0</td>\n      <td>0.0</td>\n      <td>0.0</td>\n    </tr>\n    <tr>\n      <th>L-proline+Cu2+</th>\n      <td>0.0</td>\n      <td>0.0</td>\n      <td>0.0</td>\n      <td>0.0</td>\n      <td>0.0</td>\n      <td>0.0</td>\n      <td>0.0</td>\n      <td>0.0</td>\n      <td>0.0</td>\n      <td>0.0</td>\n      <td>...</td>\n      <td>0.0</td>\n      <td>0.0</td>\n      <td>0.0</td>\n      <td>0.0</td>\n      <td>0.0</td>\n      <td>0.0</td>\n      <td>0.0</td>\n      <td>0.0</td>\n      <td>0.0</td>\n      <td>0.0</td>\n    </tr>\n    <tr>\n      <th>M-B-CD</th>\n      <td>0.0</td>\n      <td>0.0</td>\n      <td>0.0</td>\n      <td>0.0</td>\n      <td>0.0</td>\n      <td>0.0</td>\n      <td>0.0</td>\n      <td>0.0</td>\n      <td>0.0</td>\n      <td>0.0</td>\n      <td>...</td>\n      <td>0.0</td>\n      <td>0.0</td>\n      <td>0.0</td>\n      <td>0.0</td>\n      <td>0.0</td>\n      <td>0.0</td>\n      <td>0.0</td>\n      <td>0.0</td>\n      <td>0.0</td>\n      <td>0.0</td>\n    </tr>\n    <tr>\n      <th>S-B-CD</th>\n      <td>0.0</td>\n      <td>0.0</td>\n      <td>0.0</td>\n      <td>0.0</td>\n      <td>0.0</td>\n      <td>0.0</td>\n      <td>0.0</td>\n      <td>0.0</td>\n      <td>0.0</td>\n      <td>0.0</td>\n      <td>...</td>\n      <td>0.0</td>\n      <td>0.0</td>\n      <td>0.0</td>\n      <td>0.0</td>\n      <td>0.0</td>\n      <td>0.0</td>\n      <td>0.0</td>\n      <td>0.0</td>\n      <td>0.0</td>\n      <td>0.0</td>\n    </tr>\n    <tr>\n      <th>SBE-B-CD</th>\n      <td>0.0</td>\n      <td>0.0</td>\n      <td>0.0</td>\n      <td>0.0</td>\n      <td>0.0</td>\n      <td>0.0</td>\n      <td>0.0</td>\n      <td>0.0</td>\n      <td>0.0</td>\n      <td>0.0</td>\n      <td>...</td>\n      <td>0.0</td>\n      <td>0.0</td>\n      <td>0.0</td>\n      <td>0.0</td>\n      <td>0.0</td>\n      <td>0.0</td>\n      <td>0.0</td>\n      <td>0.0</td>\n      <td>0.0</td>\n      <td>0.0</td>\n    </tr>\n    <tr>\n      <th>TM-B-CD</th>\n      <td>0.0</td>\n      <td>0.0</td>\n      <td>0.0</td>\n      <td>0.0</td>\n      <td>0.0</td>\n      <td>0.0</td>\n      <td>0.0</td>\n      <td>0.0</td>\n      <td>0.0</td>\n      <td>0.0</td>\n      <td>...</td>\n      <td>0.0</td>\n      <td>0.0</td>\n      <td>0.0</td>\n      <td>0.0</td>\n      <td>0.0</td>\n      <td>0.0</td>\n      <td>0.0</td>\n      <td>0.0</td>\n      <td>0.0</td>\n      <td>0.0</td>\n    </tr>\n  </tbody>\n</table>\n<p>11 rows × 3239 columns</p>\n</div>"
     },
     "execution_count": 5,
     "metadata": {},
     "output_type": "execute_result"
    }
   ],
   "source": [
    "df"
   ],
   "metadata": {
    "collapsed": false,
    "pycharm": {
     "name": "#%%\n"
    }
   }
  },
  {
   "cell_type": "code",
   "execution_count": 8,
   "outputs": [],
   "source": [],
   "metadata": {
    "collapsed": false,
    "pycharm": {
     "name": "#%%\n"
    }
   }
  }
 ],
 "metadata": {
  "kernelspec": {
   "name": "conda-env-.conda-py310-py",
   "language": "python",
   "display_name": "Python [conda env:.conda-py310] *"
  },
  "language_info": {
   "codemirror_mode": {
    "name": "ipython",
    "version": 2
   },
   "file_extension": ".py",
   "mimetype": "text/x-python",
   "name": "python",
   "nbconvert_exporter": "python",
   "pygments_lexer": "ipython2",
   "version": "2.7.6"
  }
 },
 "nbformat": 4,
 "nbformat_minor": 0
}